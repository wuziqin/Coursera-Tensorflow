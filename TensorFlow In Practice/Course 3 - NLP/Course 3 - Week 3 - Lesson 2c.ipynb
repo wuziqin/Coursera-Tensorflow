{
  "nbformat": 4,
  "nbformat_minor": 0,
  "metadata": {
    "accelerator": "GPU",
    "colab": {
      "name": "Course 3 - Week 3 - Lesson 2c.ipynb",
      "provenance": [],
      "collapsed_sections": []
    },
    "kernelspec": {
      "display_name": "Python 3",
      "language": "python",
      "name": "python3"
    },
    "language_info": {
      "codemirror_mode": {
        "name": "ipython",
        "version": 3
      },
      "file_extension": ".py",
      "mimetype": "text/x-python",
      "name": "python",
      "nbconvert_exporter": "python",
      "pygments_lexer": "ipython3",
      "version": "3.7.6"
    }
  },
  "cells": [
    {
      "cell_type": "code",
      "metadata": {
        "id": "zX4Kg8DUTKWO"
      },
      "source": [
        "#@title Licensed under the Apache License, Version 2.0 (the \"License\");\n",
        "# you may not use this file except in compliance with the License.\n",
        "# You may obtain a copy of the License at\n",
        "#\n",
        "# https://www.apache.org/licenses/LICENSE-2.0\n",
        "#\n",
        "# Unless required by applicable law or agreed to in writing, software\n",
        "# distributed under the License is distributed on an \"AS IS\" BASIS,\n",
        "# WITHOUT WARRANTIES OR CONDITIONS OF ANY KIND, either express or implied.\n",
        "# See the License for the specific language governing permissions and\n",
        "# limitations under the License."
      ],
      "execution_count": null,
      "outputs": []
    },
    {
      "cell_type": "markdown",
      "metadata": {
        "id": "VXTQqDg1S4EY"
      },
      "source": [
        "<a href=\"https://colab.research.google.com/github/lmoroney/dlaicourse/blob/master/TensorFlow%20In%20Practice/Course%203%20-%20NLP/Course%203%20-%20Week%203%20-%20Lesson%202c.ipynb\" target=\"_parent\"><img src=\"https://colab.research.google.com/assets/colab-badge.svg\" alt=\"Open In Colab\"/></a>"
      ]
    },
    {
      "cell_type": "code",
      "metadata": {
        "colab": {
          "base_uri": "https://localhost:8080/"
        },
        "id": "jGwXGIXvFhXW",
        "outputId": "543fa802-676e-43a7-cdc1-81677649a908"
      },
      "source": [
        "import numpy as np\n",
        "\n",
        "import json\n",
        "import tensorflow as tf\n",
        "\n",
        "from tensorflow.keras.preprocessing.text import Tokenizer\n",
        "from tensorflow.keras.preprocessing.sequence import pad_sequences\n",
        "\n",
        "!wget --no-check-certificate \\\n",
        "    https://storage.googleapis.com/laurencemoroney-blog.appspot.com/sarcasm.json \\\n",
        "    -O /tmp/sarcasm.json\n",
        "\n",
        "vocab_size = 1000\n",
        "embedding_dim = 16\n",
        "max_length = 120\n",
        "trunc_type='post'\n",
        "padding_type='post'\n",
        "oov_tok = \"<OOV>\"\n",
        "training_size = 20000\n",
        "\n",
        "\n",
        "with open(\"/tmp/sarcasm.json\", 'r') as f:\n",
        "    datastore = json.load(f)\n",
        "\n",
        "\n",
        "sentences = []\n",
        "labels = []\n",
        "urls = []\n",
        "for item in datastore:\n",
        "    sentences.append(item['headline'])\n",
        "    labels.append(item['is_sarcastic'])\n",
        "\n",
        "training_sentences = sentences[0:training_size]\n",
        "testing_sentences = sentences[training_size:]\n",
        "training_labels = labels[0:training_size]\n",
        "testing_labels = labels[training_size:]\n",
        "\n",
        "tokenizer = Tokenizer(num_words=vocab_size, oov_token=oov_tok)\n",
        "tokenizer.fit_on_texts(training_sentences)\n",
        "\n",
        "word_index = tokenizer.word_index\n",
        "\n",
        "training_sequences = tokenizer.texts_to_sequences(training_sentences)\n",
        "training_padded = pad_sequences(training_sequences, maxlen=max_length, padding=padding_type, truncating=trunc_type)\n",
        "\n",
        "testing_sequences = tokenizer.texts_to_sequences(testing_sentences)\n",
        "testing_padded = pad_sequences(testing_sequences, maxlen=max_length, padding=padding_type, truncating=trunc_type)\n",
        "\n",
        "model = tf.keras.Sequential([\n",
        "    tf.keras.layers.Embedding(vocab_size, embedding_dim, input_length=max_length),\n",
        "    tf.keras.layers.Conv1D(128, 5, activation='relu'),\n",
        "    tf.keras.layers.GlobalMaxPooling1D(),\n",
        "    tf.keras.layers.Dense(24, activation='relu'),\n",
        "    tf.keras.layers.Dense(1, activation='sigmoid')\n",
        "])\n",
        "model.compile(loss='binary_crossentropy',optimizer='adam',metrics=['accuracy'])\n",
        "model.summary()\n",
        "\n",
        "num_epochs = 50\n",
        "\n",
        "training_padded = np.array(training_padded)\n",
        "training_labels = np.array(training_labels)\n",
        "testing_padded = np.array(testing_padded)\n",
        "testing_labels = np.array(testing_labels)\n",
        "\n",
        "history = model.fit(training_padded, training_labels, epochs=num_epochs, validation_data=(testing_padded, testing_labels), verbose=1)\n"
      ],
      "execution_count": 1,
      "outputs": [
        {
          "output_type": "stream",
          "text": [
            "--2021-06-16 01:16:48--  https://storage.googleapis.com/laurencemoroney-blog.appspot.com/sarcasm.json\n",
            "Resolving storage.googleapis.com (storage.googleapis.com)... 172.217.2.112, 172.217.164.144, 172.253.62.128, ...\n",
            "Connecting to storage.googleapis.com (storage.googleapis.com)|172.217.2.112|:443... connected.\n",
            "HTTP request sent, awaiting response... 200 OK\n",
            "Length: 5643545 (5.4M) [application/json]\n",
            "Saving to: ‘/tmp/sarcasm.json’\n",
            "\n",
            "\r/tmp/sarcasm.json     0%[                    ]       0  --.-KB/s               \r/tmp/sarcasm.json   100%[===================>]   5.38M  --.-KB/s    in 0.02s   \n",
            "\n",
            "2021-06-16 01:16:48 (246 MB/s) - ‘/tmp/sarcasm.json’ saved [5643545/5643545]\n",
            "\n",
            "Model: \"sequential\"\n",
            "_________________________________________________________________\n",
            "Layer (type)                 Output Shape              Param #   \n",
            "=================================================================\n",
            "embedding (Embedding)        (None, 120, 16)           16000     \n",
            "_________________________________________________________________\n",
            "conv1d (Conv1D)              (None, 116, 128)          10368     \n",
            "_________________________________________________________________\n",
            "global_max_pooling1d (Global (None, 128)               0         \n",
            "_________________________________________________________________\n",
            "dense (Dense)                (None, 24)                3096      \n",
            "_________________________________________________________________\n",
            "dense_1 (Dense)              (None, 1)                 25        \n",
            "=================================================================\n",
            "Total params: 29,489\n",
            "Trainable params: 29,489\n",
            "Non-trainable params: 0\n",
            "_________________________________________________________________\n",
            "Epoch 1/50\n",
            "625/625 [==============================] - 34s 5ms/step - loss: 0.4821 - accuracy: 0.7510 - val_loss: 0.4029 - val_accuracy: 0.8173\n",
            "Epoch 2/50\n",
            "625/625 [==============================] - 3s 4ms/step - loss: 0.3577 - accuracy: 0.8396 - val_loss: 0.4073 - val_accuracy: 0.8204\n",
            "Epoch 3/50\n",
            "625/625 [==============================] - 3s 4ms/step - loss: 0.3218 - accuracy: 0.8585 - val_loss: 0.3865 - val_accuracy: 0.8244\n",
            "Epoch 4/50\n",
            "625/625 [==============================] - 3s 5ms/step - loss: 0.2924 - accuracy: 0.8712 - val_loss: 0.3981 - val_accuracy: 0.8186\n",
            "Epoch 5/50\n",
            "625/625 [==============================] - 3s 4ms/step - loss: 0.2648 - accuracy: 0.8868 - val_loss: 0.4115 - val_accuracy: 0.8189\n",
            "Epoch 6/50\n",
            "625/625 [==============================] - 3s 4ms/step - loss: 0.2333 - accuracy: 0.9039 - val_loss: 0.4445 - val_accuracy: 0.8180\n",
            "Epoch 7/50\n",
            "625/625 [==============================] - 3s 4ms/step - loss: 0.2045 - accuracy: 0.9187 - val_loss: 0.4818 - val_accuracy: 0.8110\n",
            "Epoch 8/50\n",
            "625/625 [==============================] - 3s 5ms/step - loss: 0.1746 - accuracy: 0.9336 - val_loss: 0.5246 - val_accuracy: 0.8070\n",
            "Epoch 9/50\n",
            "625/625 [==============================] - 3s 4ms/step - loss: 0.1477 - accuracy: 0.9456 - val_loss: 0.5516 - val_accuracy: 0.8098\n",
            "Epoch 10/50\n",
            "625/625 [==============================] - 3s 4ms/step - loss: 0.1244 - accuracy: 0.9542 - val_loss: 0.6217 - val_accuracy: 0.8073\n",
            "Epoch 11/50\n",
            "625/625 [==============================] - 3s 4ms/step - loss: 0.1032 - accuracy: 0.9636 - val_loss: 0.6892 - val_accuracy: 0.8007\n",
            "Epoch 12/50\n",
            "625/625 [==============================] - 3s 4ms/step - loss: 0.0888 - accuracy: 0.9685 - val_loss: 0.7805 - val_accuracy: 0.8006\n",
            "Epoch 13/50\n",
            "625/625 [==============================] - 3s 4ms/step - loss: 0.0744 - accuracy: 0.9745 - val_loss: 0.8535 - val_accuracy: 0.8007\n",
            "Epoch 14/50\n",
            "625/625 [==============================] - 3s 4ms/step - loss: 0.0610 - accuracy: 0.9784 - val_loss: 1.0008 - val_accuracy: 0.7964\n",
            "Epoch 15/50\n",
            "625/625 [==============================] - 3s 4ms/step - loss: 0.0535 - accuracy: 0.9815 - val_loss: 1.0231 - val_accuracy: 0.7955\n",
            "Epoch 16/50\n",
            "625/625 [==============================] - 3s 4ms/step - loss: 0.0492 - accuracy: 0.9826 - val_loss: 1.1158 - val_accuracy: 0.7904\n",
            "Epoch 17/50\n",
            "625/625 [==============================] - 3s 5ms/step - loss: 0.0428 - accuracy: 0.9848 - val_loss: 1.1638 - val_accuracy: 0.7857\n",
            "Epoch 18/50\n",
            "625/625 [==============================] - 3s 4ms/step - loss: 0.0415 - accuracy: 0.9851 - val_loss: 1.2031 - val_accuracy: 0.7880\n",
            "Epoch 19/50\n",
            "625/625 [==============================] - 3s 4ms/step - loss: 0.0374 - accuracy: 0.9862 - val_loss: 1.3643 - val_accuracy: 0.7949\n",
            "Epoch 20/50\n",
            "625/625 [==============================] - 3s 4ms/step - loss: 0.0375 - accuracy: 0.9850 - val_loss: 1.3949 - val_accuracy: 0.7885\n",
            "Epoch 21/50\n",
            "625/625 [==============================] - 3s 4ms/step - loss: 0.0342 - accuracy: 0.9869 - val_loss: 1.4596 - val_accuracy: 0.7873\n",
            "Epoch 22/50\n",
            "625/625 [==============================] - 3s 4ms/step - loss: 0.0357 - accuracy: 0.9857 - val_loss: 1.4839 - val_accuracy: 0.7901\n",
            "Epoch 23/50\n",
            "625/625 [==============================] - 3s 5ms/step - loss: 0.0310 - accuracy: 0.9877 - val_loss: 1.5656 - val_accuracy: 0.7834\n",
            "Epoch 24/50\n",
            "625/625 [==============================] - 3s 4ms/step - loss: 0.0294 - accuracy: 0.9880 - val_loss: 1.5915 - val_accuracy: 0.7873\n",
            "Epoch 25/50\n",
            "625/625 [==============================] - 3s 4ms/step - loss: 0.0275 - accuracy: 0.9893 - val_loss: 1.6961 - val_accuracy: 0.7873\n",
            "Epoch 26/50\n",
            "625/625 [==============================] - 3s 4ms/step - loss: 0.0242 - accuracy: 0.9907 - val_loss: 1.7853 - val_accuracy: 0.7891\n",
            "Epoch 27/50\n",
            "625/625 [==============================] - 3s 4ms/step - loss: 0.0248 - accuracy: 0.9894 - val_loss: 1.8002 - val_accuracy: 0.7864\n",
            "Epoch 28/50\n",
            "625/625 [==============================] - 3s 4ms/step - loss: 0.0325 - accuracy: 0.9869 - val_loss: 1.8224 - val_accuracy: 0.7846\n",
            "Epoch 29/50\n",
            "625/625 [==============================] - 3s 4ms/step - loss: 0.0306 - accuracy: 0.9873 - val_loss: 1.8815 - val_accuracy: 0.7900\n",
            "Epoch 30/50\n",
            "625/625 [==============================] - 3s 4ms/step - loss: 0.0258 - accuracy: 0.9894 - val_loss: 1.9286 - val_accuracy: 0.7851\n",
            "Epoch 31/50\n",
            "625/625 [==============================] - 3s 4ms/step - loss: 0.0219 - accuracy: 0.9908 - val_loss: 1.9449 - val_accuracy: 0.7837\n",
            "Epoch 32/50\n",
            "625/625 [==============================] - 3s 4ms/step - loss: 0.0221 - accuracy: 0.9904 - val_loss: 1.9577 - val_accuracy: 0.7867\n",
            "Epoch 33/50\n",
            "625/625 [==============================] - 3s 4ms/step - loss: 0.0222 - accuracy: 0.9905 - val_loss: 1.9965 - val_accuracy: 0.7845\n",
            "Epoch 34/50\n",
            "625/625 [==============================] - 3s 4ms/step - loss: 0.0214 - accuracy: 0.9909 - val_loss: 2.1142 - val_accuracy: 0.7842\n",
            "Epoch 35/50\n",
            "625/625 [==============================] - 3s 4ms/step - loss: 0.0227 - accuracy: 0.9908 - val_loss: 2.1251 - val_accuracy: 0.7778\n",
            "Epoch 36/50\n",
            "625/625 [==============================] - 3s 4ms/step - loss: 0.0260 - accuracy: 0.9886 - val_loss: 2.1569 - val_accuracy: 0.7794\n",
            "Epoch 37/50\n",
            "625/625 [==============================] - 3s 4ms/step - loss: 0.0262 - accuracy: 0.9890 - val_loss: 2.1951 - val_accuracy: 0.7883\n",
            "Epoch 38/50\n",
            "625/625 [==============================] - 3s 4ms/step - loss: 0.0214 - accuracy: 0.9906 - val_loss: 2.1713 - val_accuracy: 0.7851\n",
            "Epoch 39/50\n",
            "625/625 [==============================] - 3s 4ms/step - loss: 0.0192 - accuracy: 0.9919 - val_loss: 2.2368 - val_accuracy: 0.7779\n",
            "Epoch 40/50\n",
            "625/625 [==============================] - 3s 4ms/step - loss: 0.0227 - accuracy: 0.9900 - val_loss: 2.2791 - val_accuracy: 0.7797\n",
            "Epoch 41/50\n",
            "625/625 [==============================] - 3s 4ms/step - loss: 0.0216 - accuracy: 0.9911 - val_loss: 2.2755 - val_accuracy: 0.7754\n",
            "Epoch 42/50\n",
            "625/625 [==============================] - 3s 5ms/step - loss: 0.0186 - accuracy: 0.9918 - val_loss: 2.2789 - val_accuracy: 0.7846\n",
            "Epoch 43/50\n",
            "625/625 [==============================] - 3s 4ms/step - loss: 0.0184 - accuracy: 0.9921 - val_loss: 2.3368 - val_accuracy: 0.7791\n",
            "Epoch 44/50\n",
            "625/625 [==============================] - 3s 4ms/step - loss: 0.0182 - accuracy: 0.9915 - val_loss: 2.3630 - val_accuracy: 0.7790\n",
            "Epoch 45/50\n",
            "625/625 [==============================] - 3s 4ms/step - loss: 0.0238 - accuracy: 0.9894 - val_loss: 2.2923 - val_accuracy: 0.7874\n",
            "Epoch 46/50\n",
            "625/625 [==============================] - 3s 4ms/step - loss: 0.0250 - accuracy: 0.9893 - val_loss: 2.3469 - val_accuracy: 0.7831\n",
            "Epoch 47/50\n",
            "625/625 [==============================] - 3s 4ms/step - loss: 0.0216 - accuracy: 0.9905 - val_loss: 2.3782 - val_accuracy: 0.7751\n",
            "Epoch 48/50\n",
            "625/625 [==============================] - 3s 5ms/step - loss: 0.0197 - accuracy: 0.9908 - val_loss: 2.4307 - val_accuracy: 0.7833\n",
            "Epoch 49/50\n",
            "625/625 [==============================] - 3s 4ms/step - loss: 0.0195 - accuracy: 0.9911 - val_loss: 2.5517 - val_accuracy: 0.7877\n",
            "Epoch 50/50\n",
            "625/625 [==============================] - 3s 4ms/step - loss: 0.0225 - accuracy: 0.9898 - val_loss: 2.6094 - val_accuracy: 0.7854\n"
          ],
          "name": "stdout"
        }
      ]
    },
    {
      "cell_type": "code",
      "metadata": {
        "colab": {
          "base_uri": "https://localhost:8080/",
          "height": 542
        },
        "id": "g9DC6dmLF8DC",
        "outputId": "3a1d3299-934c-4a27-990d-feb5c612c9e5"
      },
      "source": [
        "import matplotlib.pyplot as plt\n",
        "\n",
        "\n",
        "def plot_graphs(history, string):\n",
        "  plt.plot(history.history[string])\n",
        "  plt.plot(history.history['val_'+string])\n",
        "  plt.xlabel(\"Epochs\")\n",
        "  plt.ylabel(string)\n",
        "  plt.legend([string, 'val_'+string])\n",
        "  plt.show()\n",
        "\n",
        "plot_graphs(history, 'accuracy')\n",
        "plot_graphs(history, 'loss')"
      ],
      "execution_count": 2,
      "outputs": [
        {
          "output_type": "display_data",
          "data": {
            "image/png": "[encoded data removed]",
            "text/plain": [
              "<Figure size 432x288 with 1 Axes>"
            ]
          },
          "metadata": {
            "tags": [],
            "needs_background": "light"
          }
        },
        {
          "output_type": "display_data",
          "data": {
            "image/png": "[encoded data removed]",
            "text/plain": [
              "<Figure size 432x288 with 1 Axes>"
            ]
          },
          "metadata": {
            "tags": [],
            "needs_background": "light"
          }
        }
      ]
    },
    {
      "cell_type": "code",
      "metadata": {
        "id": "7ZEZIUppGhdi"
      },
      "source": [
        "model.save(\"test.h5\")"
      ],
      "execution_count": 3,
      "outputs": []
    }
  ]
}
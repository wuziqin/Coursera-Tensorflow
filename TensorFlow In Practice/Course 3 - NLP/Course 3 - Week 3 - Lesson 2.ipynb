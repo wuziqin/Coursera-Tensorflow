{
  "nbformat": 4,
  "nbformat_minor": 0,
  "metadata": {
    "accelerator": "GPU",
    "colab": {
      "name": "Course 3 - Week 3 - Lesson 2.ipynb",
      "provenance": [],
      "collapsed_sections": []
    },
    "kernelspec": {
      "display_name": "Python 3",
      "language": "python",
      "name": "python3"
    },
    "language_info": {
      "codemirror_mode": {
        "name": "ipython",
        "version": 3
      },
      "file_extension": ".py",
      "mimetype": "text/x-python",
      "name": "python",
      "nbconvert_exporter": "python",
      "pygments_lexer": "ipython3",
      "version": "3.7.6"
    }
  },
  "cells": [
    {
      "cell_type": "code",
      "metadata": {
        "id": "zX4Kg8DUTKWO"
      },
      "source": [
        "#@title Licensed under the Apache License, Version 2.0 (the \"License\");\n",
        "# you may not use this file except in compliance with the License.\n",
        "# You may obtain a copy of the License at\n",
        "#\n",
        "# https://www.apache.org/licenses/LICENSE-2.0\n",
        "#\n",
        "# Unless required by applicable law or agreed to in writing, software\n",
        "# distributed under the License is distributed on an \"AS IS\" BASIS,\n",
        "# WITHOUT WARRANTIES OR CONDITIONS OF ANY KIND, either express or implied.\n",
        "# See the License for the specific language governing permissions and\n",
        "# limitations under the License."
      ],
      "execution_count": null,
      "outputs": []
    },
    {
      "cell_type": "markdown",
      "metadata": {
        "id": "XBotoy7fS3TS"
      },
      "source": [
        "<a href=\"https://colab.research.google.com/github/lmoroney/dlaicourse/blob/master/TensorFlow%20In%20Practice/Course%203%20-%20NLP/Course%203%20-%20Week%203%20-%20Lesson%202.ipynb\" target=\"_parent\"><img src=\"https://colab.research.google.com/assets/colab-badge.svg\" alt=\"Open In Colab\"/></a>"
      ]
    },
    {
      "cell_type": "code",
      "metadata": {
        "colab": {
          "base_uri": "https://localhost:8080/"
        },
        "id": "jGwXGIXvFhXW",
        "outputId": "eb43c736-0494-470c-a8bb-ba9fb4a7b201"
      },
      "source": [
        "import numpy as np\n",
        "\n",
        "import json\n",
        "import tensorflow as tf\n",
        "\n",
        "from tensorflow.keras.preprocessing.text import Tokenizer\n",
        "from tensorflow.keras.preprocessing.sequence import pad_sequences\n",
        "\n",
        "!wget --no-check-certificate \\\n",
        "    https://storage.googleapis.com/laurencemoroney-blog.appspot.com/sarcasm.json \\\n",
        "    -O /tmp/sarcasm.json\n",
        "\n",
        "vocab_size = 1000\n",
        "embedding_dim = 16\n",
        "max_length = 120\n",
        "trunc_type='post'\n",
        "padding_type='post'\n",
        "oov_tok = \"<OOV>\"\n",
        "training_size = 20000\n",
        "\n",
        "\n",
        "with open(\"/tmp/sarcasm.json\", 'r') as f:\n",
        "    datastore = json.load(f)\n",
        "\n",
        "\n",
        "sentences = []\n",
        "labels = []\n",
        "urls = []\n",
        "for item in datastore:\n",
        "    sentences.append(item['headline'])\n",
        "    labels.append(item['is_sarcastic'])\n",
        "\n",
        "training_sentences = sentences[0:training_size]\n",
        "testing_sentences = sentences[training_size:]\n",
        "training_labels = labels[0:training_size]\n",
        "testing_labels = labels[training_size:]\n",
        "\n",
        "tokenizer = Tokenizer(num_words=vocab_size, oov_token=oov_tok)\n",
        "tokenizer.fit_on_texts(training_sentences)\n",
        "\n",
        "word_index = tokenizer.word_index\n",
        "\n",
        "training_sequences = tokenizer.texts_to_sequences(training_sentences)\n",
        "training_padded = pad_sequences(training_sequences, maxlen=max_length, padding=padding_type, truncating=trunc_type)\n",
        "\n",
        "testing_sequences = tokenizer.texts_to_sequences(testing_sentences)\n",
        "testing_padded = pad_sequences(testing_sequences, maxlen=max_length, padding=padding_type, truncating=trunc_type)\n",
        "\n",
        "model = tf.keras.Sequential([\n",
        "    tf.keras.layers.Embedding(vocab_size, embedding_dim, input_length=max_length),\n",
        "    tf.keras.layers.Bidirectional(tf.keras.layers.LSTM(32)),\n",
        "    tf.keras.layers.Dense(24, activation='relu'),\n",
        "    tf.keras.layers.Dense(1, activation='sigmoid')\n",
        "])\n",
        "model.compile(loss='binary_crossentropy',optimizer='adam',metrics=['accuracy'])\n",
        "model.summary()\n",
        "\n",
        "num_epochs = 50\n",
        "training_padded = np.array(training_padded)\n",
        "training_labels = np.array(training_labels)\n",
        "testing_padded = np.array(testing_padded)\n",
        "testing_labels = np.array(testing_labels)\n",
        "history = model.fit(training_padded, training_labels, epochs=num_epochs, validation_data=(testing_padded, testing_labels), verbose=1)\n"
      ],
      "execution_count": 1,
      "outputs": [
        {
          "output_type": "stream",
          "text": [
            "--2021-06-16 01:23:13--  https://storage.googleapis.com/laurencemoroney-blog.appspot.com/sarcasm.json\n",
            "Resolving storage.googleapis.com (storage.googleapis.com)... 142.251.33.208, 172.217.9.208, 172.217.12.240, ...\n",
            "Connecting to storage.googleapis.com (storage.googleapis.com)|142.251.33.208|:443... connected.\n",
            "HTTP request sent, awaiting response... 200 OK\n",
            "Length: 5643545 (5.4M) [application/json]\n",
            "Saving to: ‘/tmp/sarcasm.json’\n",
            "\n",
            "\r/tmp/sarcasm.json     0%[                    ]       0  --.-KB/s               \r/tmp/sarcasm.json   100%[===================>]   5.38M  --.-KB/s    in 0.03s   \n",
            "\n",
            "2021-06-16 01:23:13 (175 MB/s) - ‘/tmp/sarcasm.json’ saved [5643545/5643545]\n",
            "\n",
            "Model: \"sequential\"\n",
            "_________________________________________________________________\n",
            "Layer (type)                 Output Shape              Param #   \n",
            "=================================================================\n",
            "embedding (Embedding)        (None, 120, 16)           16000     \n",
            "_________________________________________________________________\n",
            "bidirectional (Bidirectional (None, 64)                12544     \n",
            "_________________________________________________________________\n",
            "dense (Dense)                (None, 24)                1560      \n",
            "_________________________________________________________________\n",
            "dense_1 (Dense)              (None, 1)                 25        \n",
            "=================================================================\n",
            "Total params: 30,129\n",
            "Trainable params: 30,129\n",
            "Non-trainable params: 0\n",
            "_________________________________________________________________\n",
            "Epoch 1/50\n",
            "625/625 [==============================] - 20s 17ms/step - loss: 0.4496 - accuracy: 0.7753 - val_loss: 0.3918 - val_accuracy: 0.8190\n",
            "Epoch 2/50\n",
            "625/625 [==============================] - 10s 16ms/step - loss: 0.3531 - accuracy: 0.8383 - val_loss: 0.3727 - val_accuracy: 0.8337\n",
            "Epoch 3/50\n",
            "625/625 [==============================] - 10s 16ms/step - loss: 0.3262 - accuracy: 0.8540 - val_loss: 0.3664 - val_accuracy: 0.8371\n",
            "Epoch 4/50\n",
            "625/625 [==============================] - 10s 16ms/step - loss: 0.3063 - accuracy: 0.8647 - val_loss: 0.3831 - val_accuracy: 0.8365\n",
            "Epoch 5/50\n",
            "625/625 [==============================] - 10s 16ms/step - loss: 0.2948 - accuracy: 0.8692 - val_loss: 0.3855 - val_accuracy: 0.8314\n",
            "Epoch 6/50\n",
            "625/625 [==============================] - 10s 16ms/step - loss: 0.2858 - accuracy: 0.8755 - val_loss: 0.3914 - val_accuracy: 0.8271\n",
            "Epoch 7/50\n",
            "625/625 [==============================] - 10s 16ms/step - loss: 0.2787 - accuracy: 0.8778 - val_loss: 0.3899 - val_accuracy: 0.8304\n",
            "Epoch 8/50\n",
            "625/625 [==============================] - 10s 16ms/step - loss: 0.2716 - accuracy: 0.8827 - val_loss: 0.3900 - val_accuracy: 0.8296\n",
            "Epoch 9/50\n",
            "625/625 [==============================] - 10s 16ms/step - loss: 0.2674 - accuracy: 0.8853 - val_loss: 0.4081 - val_accuracy: 0.8269\n",
            "Epoch 10/50\n",
            "625/625 [==============================] - 10s 16ms/step - loss: 0.2606 - accuracy: 0.8878 - val_loss: 0.4076 - val_accuracy: 0.8261\n",
            "Epoch 11/50\n",
            "625/625 [==============================] - 10s 16ms/step - loss: 0.2541 - accuracy: 0.8913 - val_loss: 0.4170 - val_accuracy: 0.8268\n",
            "Epoch 12/50\n",
            "625/625 [==============================] - 10s 16ms/step - loss: 0.2487 - accuracy: 0.8929 - val_loss: 0.4263 - val_accuracy: 0.8229\n",
            "Epoch 13/50\n",
            "625/625 [==============================] - 10s 16ms/step - loss: 0.2417 - accuracy: 0.8953 - val_loss: 0.4279 - val_accuracy: 0.8182\n",
            "Epoch 14/50\n",
            "625/625 [==============================] - 10s 16ms/step - loss: 0.2353 - accuracy: 0.8999 - val_loss: 0.4342 - val_accuracy: 0.8198\n",
            "Epoch 15/50\n",
            "625/625 [==============================] - 10s 16ms/step - loss: 0.2282 - accuracy: 0.9025 - val_loss: 0.4673 - val_accuracy: 0.8220\n",
            "Epoch 16/50\n",
            "625/625 [==============================] - 10s 16ms/step - loss: 0.2209 - accuracy: 0.9079 - val_loss: 0.4576 - val_accuracy: 0.8231\n",
            "Epoch 17/50\n",
            "625/625 [==============================] - 10s 16ms/step - loss: 0.2161 - accuracy: 0.9089 - val_loss: 0.4972 - val_accuracy: 0.8205\n",
            "Epoch 18/50\n",
            "625/625 [==============================] - 10s 16ms/step - loss: 0.2042 - accuracy: 0.9147 - val_loss: 0.5292 - val_accuracy: 0.8149\n",
            "Epoch 19/50\n",
            "625/625 [==============================] - 10s 16ms/step - loss: 0.1998 - accuracy: 0.9153 - val_loss: 0.5222 - val_accuracy: 0.8150\n",
            "Epoch 20/50\n",
            "625/625 [==============================] - 10s 16ms/step - loss: 0.1910 - accuracy: 0.9204 - val_loss: 0.5679 - val_accuracy: 0.8120\n",
            "Epoch 21/50\n",
            "625/625 [==============================] - 10s 16ms/step - loss: 0.1842 - accuracy: 0.9224 - val_loss: 0.6051 - val_accuracy: 0.8152\n",
            "Epoch 22/50\n",
            "625/625 [==============================] - 10s 16ms/step - loss: 0.1787 - accuracy: 0.9265 - val_loss: 0.6339 - val_accuracy: 0.8137\n",
            "Epoch 23/50\n",
            "625/625 [==============================] - 10s 16ms/step - loss: 0.1689 - accuracy: 0.9308 - val_loss: 0.6779 - val_accuracy: 0.8116\n",
            "Epoch 24/50\n",
            "625/625 [==============================] - 10s 16ms/step - loss: 0.1646 - accuracy: 0.9316 - val_loss: 0.6769 - val_accuracy: 0.8129\n",
            "Epoch 25/50\n",
            "625/625 [==============================] - 10s 16ms/step - loss: 0.1556 - accuracy: 0.9356 - val_loss: 0.6981 - val_accuracy: 0.8031\n",
            "Epoch 26/50\n",
            "625/625 [==============================] - 10s 16ms/step - loss: 0.1496 - accuracy: 0.9388 - val_loss: 0.7425 - val_accuracy: 0.8024\n",
            "Epoch 27/50\n",
            "625/625 [==============================] - 10s 16ms/step - loss: 0.1424 - accuracy: 0.9402 - val_loss: 0.8143 - val_accuracy: 0.8076\n",
            "Epoch 28/50\n",
            "625/625 [==============================] - 10s 16ms/step - loss: 0.1350 - accuracy: 0.9446 - val_loss: 0.8442 - val_accuracy: 0.8109\n",
            "Epoch 29/50\n",
            "625/625 [==============================] - 10s 16ms/step - loss: 0.1296 - accuracy: 0.9463 - val_loss: 0.9382 - val_accuracy: 0.8114\n",
            "Epoch 30/50\n",
            "625/625 [==============================] - 10s 16ms/step - loss: 0.1219 - accuracy: 0.9492 - val_loss: 0.9895 - val_accuracy: 0.8049\n",
            "Epoch 31/50\n",
            "625/625 [==============================] - 10s 16ms/step - loss: 0.1153 - accuracy: 0.9510 - val_loss: 0.9401 - val_accuracy: 0.8016\n",
            "Epoch 32/50\n",
            "625/625 [==============================] - 10s 16ms/step - loss: 0.1102 - accuracy: 0.9534 - val_loss: 1.0508 - val_accuracy: 0.7968\n",
            "Epoch 33/50\n",
            "625/625 [==============================] - 10s 16ms/step - loss: 0.1048 - accuracy: 0.9563 - val_loss: 1.1146 - val_accuracy: 0.8007\n",
            "Epoch 34/50\n",
            "625/625 [==============================] - 10s 16ms/step - loss: 0.0995 - accuracy: 0.9595 - val_loss: 1.0872 - val_accuracy: 0.8047\n",
            "Epoch 35/50\n",
            "625/625 [==============================] - 10s 16ms/step - loss: 0.0975 - accuracy: 0.9592 - val_loss: 1.1935 - val_accuracy: 0.8035\n",
            "Epoch 36/50\n",
            "625/625 [==============================] - 10s 16ms/step - loss: 0.0951 - accuracy: 0.9597 - val_loss: 1.2751 - val_accuracy: 0.8001\n",
            "Epoch 37/50\n",
            "625/625 [==============================] - 10s 16ms/step - loss: 0.0906 - accuracy: 0.9629 - val_loss: 1.2897 - val_accuracy: 0.7991\n",
            "Epoch 38/50\n",
            "625/625 [==============================] - 10s 16ms/step - loss: 0.0856 - accuracy: 0.9650 - val_loss: 1.4007 - val_accuracy: 0.7965\n",
            "Epoch 39/50\n",
            "625/625 [==============================] - 10s 16ms/step - loss: 0.0824 - accuracy: 0.9650 - val_loss: 1.4035 - val_accuracy: 0.7995\n",
            "Epoch 40/50\n",
            "625/625 [==============================] - 10s 16ms/step - loss: 0.0807 - accuracy: 0.9669 - val_loss: 1.3753 - val_accuracy: 0.8019\n",
            "Epoch 41/50\n",
            "625/625 [==============================] - 10s 16ms/step - loss: 0.0776 - accuracy: 0.9679 - val_loss: 1.5428 - val_accuracy: 0.7979\n",
            "Epoch 42/50\n",
            "625/625 [==============================] - 10s 16ms/step - loss: 0.0786 - accuracy: 0.9679 - val_loss: 1.5213 - val_accuracy: 0.7937\n",
            "Epoch 43/50\n",
            "625/625 [==============================] - 10s 17ms/step - loss: 0.0729 - accuracy: 0.9700 - val_loss: 1.5222 - val_accuracy: 0.7951\n",
            "Epoch 44/50\n",
            "625/625 [==============================] - 10s 16ms/step - loss: 0.0757 - accuracy: 0.9689 - val_loss: 1.5379 - val_accuracy: 0.8009\n",
            "Epoch 45/50\n",
            "625/625 [==============================] - 10s 16ms/step - loss: 0.0655 - accuracy: 0.9723 - val_loss: 1.6003 - val_accuracy: 0.7988\n",
            "Epoch 46/50\n",
            "625/625 [==============================] - 10s 16ms/step - loss: 0.0596 - accuracy: 0.9753 - val_loss: 1.6917 - val_accuracy: 0.7945\n",
            "Epoch 47/50\n",
            "625/625 [==============================] - 10s 16ms/step - loss: 0.0670 - accuracy: 0.9729 - val_loss: 1.7235 - val_accuracy: 0.7921\n",
            "Epoch 48/50\n",
            "625/625 [==============================] - 10s 16ms/step - loss: 0.0650 - accuracy: 0.9740 - val_loss: 1.6912 - val_accuracy: 0.7948\n",
            "Epoch 49/50\n",
            "625/625 [==============================] - 10s 16ms/step - loss: 0.0653 - accuracy: 0.9726 - val_loss: 1.7053 - val_accuracy: 0.7955\n",
            "Epoch 50/50\n",
            "625/625 [==============================] - 10s 16ms/step - loss: 0.0564 - accuracy: 0.9749 - val_loss: 1.8308 - val_accuracy: 0.7940\n"
          ],
          "name": "stdout"
        }
      ]
    },
    {
      "cell_type": "code",
      "metadata": {
        "colab": {
          "base_uri": "https://localhost:8080/",
          "height": 541
        },
        "id": "g9DC6dmLF8DC",
        "outputId": "1a9603e3-b3c5-4c34-cea3-1c699a539324"
      },
      "source": [
        "import matplotlib.pyplot as plt\n",
        "\n",
        "\n",
        "def plot_graphs(history, string):\n",
        "  plt.plot(history.history[string])\n",
        "  plt.plot(history.history['val_'+string])\n",
        "  plt.xlabel(\"Epochs\")\n",
        "  plt.ylabel(string)\n",
        "  plt.legend([string, 'val_'+string])\n",
        "  plt.show()\n",
        "\n",
        "plot_graphs(history, 'accuracy')\n",
        "plot_graphs(history, 'loss')"
      ],
      "execution_count": 2,
      "outputs": [
        {
          "output_type": "display_data",
          "data": {
            "image/png": "[encoded data removed]",
            "text/plain": [
              "<Figure size 432x288 with 1 Axes>"
            ]
          },
          "metadata": {
            "tags": [],
            "needs_background": "light"
          }
        },
        {
          "output_type": "display_data",
          "data": {
            "image/png": "[encoded data removed]",
            "text/plain": [
              "<Figure size 432x288 with 1 Axes>"
            ]
          },
          "metadata": {
            "tags": [],
            "needs_background": "light"
          }
        }
      ]
    },
    {
      "cell_type": "code",
      "metadata": {
        "id": "7ZEZIUppGhdi"
      },
      "source": [
        "model.save(\"test.h5\")"
      ],
      "execution_count": 3,
      "outputs": []
    }
  ]
}